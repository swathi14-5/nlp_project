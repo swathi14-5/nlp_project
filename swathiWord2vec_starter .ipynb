{
  "nbformat": 4,
  "nbformat_minor": 0,
  "metadata": {
    "colab": {
      "name": "Word2vec_starter.ipynb",
      "provenance": [],
      "collapsed_sections": []
    },
    "kernelspec": {
      "display_name": "Python 3",
      "language": "python",
      "name": "python3"
    },
    "language_info": {
      "codemirror_mode": {
        "name": "ipython",
        "version": 3
      },
      "file_extension": ".py",
      "mimetype": "text/x-python",
      "name": "python",
      "nbconvert_exporter": "python",
      "pygments_lexer": "ipython3",
      "version": "3.9.1"
    },
    "nbTranslate": {
      "displayLangs": [
        "*"
      ],
      "hotkey": "alt-t",
      "langInMainMenu": true,
      "sourceLang": "en",
      "targetLang": "fr",
      "useGoogleTranslate": true
    }
  },
  "cells": [
    {
      "cell_type": "markdown",
      "metadata": {
        "id": "Op0ecsJvVjlQ"
      },
      "source": [
        "The objective of this experiment is to understand word2vec."
      ]
    },
    {
      "cell_type": "markdown",
      "metadata": {
        "id": "q2sI1Y6kVjlR"
      },
      "source": [
        "In this experiment we will use **Mahabharata** as our text corpus"
      ]
    },
    {
      "cell_type": "markdown",
      "metadata": {
        "id": "ZtolTYDtVjlS"
      },
      "source": [
        "##### Importing the required packages"
      ]
    },
    {
      "cell_type": "code",
      "metadata": {
        "ExecuteTime": {
          "end_time": "2018-06-30T05:36:58.471881Z",
          "start_time": "2018-06-30T05:36:58.465484Z"
        },
        "id": "MeHMgdVVVjlT"
      },
      "source": [
        "import gensim\n",
        "# Operating System\n",
        "import os\n",
        "# Regular Expression\n",
        "import re\n",
        "# nltk packages\n",
        "from nltk.tokenize import sent_tokenize, word_tokenize\n",
        "from nltk.stem.porter import *\n",
        "from nltk.stem.snowball import SnowballStemmer\n",
        "# Basic Packages\n",
        "import pandas as pd\n",
        "import numpy as np\n",
        "from matplotlib import pyplot as plt\n",
        "# PCA Package\n",
        "from sklearn.decomposition import PCA"
      ],
      "execution_count": 1,
      "outputs": []
    },
    {
      "cell_type": "markdown",
      "metadata": {
        "id": "ux4IHEsKVjlW"
      },
      "source": [
        "Snowball is a small string processing language designed for creating stemming algorithms for use in Information Retrieval. "
      ]
    },
    {
      "cell_type": "markdown",
      "metadata": {
        "id": "eStdDDQaVjlW"
      },
      "source": [
        "##### Creating a new instance of a language specific subclass."
      ]
    },
    {
      "cell_type": "code",
      "metadata": {
        "ExecuteTime": {
          "end_time": "2018-06-30T05:37:28.281061Z",
          "start_time": "2018-06-30T05:37:28.276619Z"
        },
        "id": "I2x7x6N8VjlX"
      },
      "source": [
        "stemmer = SnowballStemmer(\"english\")"
      ],
      "execution_count": 2,
      "outputs": []
    },
    {
      "cell_type": "markdown",
      "metadata": {
        "id": "LUUNFlp1VjlY"
      },
      "source": [
        "##### In below cell we are trying to pre-process the text data and not stemming the stop words"
      ]
    },
    {
      "cell_type": "code",
      "metadata": {
        "ExecuteTime": {
          "end_time": "2018-06-30T05:41:28.851477Z",
          "start_time": "2018-06-30T05:41:28.842085Z"
        },
        "id": "aUw4YE6cVjlZ"
      },
      "source": [
        "stopWords = pd.read_csv('stopwords.txt').values\n",
        "\n",
        "class MySentences(object):\n",
        "    def __init__(self, fnamelist):\n",
        "        self.fnamelist = fnamelist\n",
        "        # Creating a set of vocabulary\n",
        "        self.vocabulary = set([])\n",
        "\n",
        "    def __iter__(self):\n",
        "        for fname in self.fnamelist:\n",
        "            for line in open(fname, encoding='latin1'):\n",
        "                # Find all the words that has letters from 2 - 15. If the words are longer than that ignore.\n",
        "                words = re.findall(r'(\\b[A-Za-z][a-z]{2,15}\\b)', line)\n",
        "                # Stemming a word.\n",
        "                words = [ stemmer.stem(word.lower()) for word in words if not word.lower() in stopWords]\n",
        "                for word in words:\n",
        "                    self.vocabulary.add(word)\n",
        "                yield words"
      ],
      "execution_count": 3,
      "outputs": []
    },
    {
      "cell_type": "markdown",
      "metadata": {
        "id": "NG2jG7itVjlb"
      },
      "source": [
        "##### In below cell we will read the data using an iterator in the class MySentences(). \n",
        "\n",
        "Gensim model: https://radimrehurek.com/gensim/models/word2vec.html"
      ]
    },
    {
      "cell_type": "code",
      "metadata": {
        "ExecuteTime": {
          "end_time": "2018-06-30T05:43:17.493895Z",
          "start_time": "2018-06-30T05:43:17.464137Z"
        },
        "id": "507Pc7_UVjlc"
      },
      "source": [
        "sentences = MySentences(['MB.txt']) # a memory-friendly iterator\n",
        "model = gensim.models.Word2Vec(sentences, min_count=100)\n",
        "#model_load = gensim.models.Word2Vec.load('MB2Vec.bin')"
      ],
      "execution_count": 5,
      "outputs": []
    },
    {
      "cell_type": "code",
      "metadata": {
        "id": "CFGPCACsYnlf"
      },
      "source": [
        "model_load = model"
      ],
      "execution_count": 6,
      "outputs": []
    },
    {
      "cell_type": "markdown",
      "metadata": {
        "id": "ez1FTOIbVjld"
      },
      "source": [
        "##### Lets see the most similar words related to different characters"
      ]
    },
    {
      "cell_type": "code",
      "metadata": {
        "ExecuteTime": {
          "end_time": "2018-06-30T05:45:06.801555Z",
          "start_time": "2018-06-30T05:45:06.792788Z"
        },
        "colab": {
          "base_uri": "https://localhost:8080/"
        },
        "id": "kNU3T0IpVjle",
        "outputId": "e22c8166-e8e1-4abc-9f58-2d8e43f1dba0"
      },
      "source": [
        "model_load.wv.most_similar('krishna')[:3]"
      ],
      "execution_count": 7,
      "outputs": [
        {
          "output_type": "execute_result",
          "data": {
            "text/plain": [
              "[('kesava', 0.8541823029518127),\n",
              " ('vasudeva', 0.8079359531402588),\n",
              " ('govinda', 0.7844321727752686)]"
            ]
          },
          "metadata": {
            "tags": []
          },
          "execution_count": 7
        }
      ]
    },
    {
      "cell_type": "code",
      "metadata": {
        "ExecuteTime": {
          "end_time": "2018-06-30T05:47:34.528017Z",
          "start_time": "2018-06-30T05:47:34.520211Z"
        },
        "colab": {
          "base_uri": "https://localhost:8080/"
        },
        "id": "X3lgOT6eVjle",
        "outputId": "a6dacd9e-a221-468d-d535-b1de1e55552e"
      },
      "source": [
        "model_load.wv.most_similar('arjuna')[:3]"
      ],
      "execution_count": 8,
      "outputs": [
        {
          "output_type": "execute_result",
          "data": {
            "text/plain": [
              "[('partha', 0.8897969126701355),\n",
              " ('dhananjaya', 0.802850604057312),\n",
              " ('vibhatsu', 0.7972055673599243)]"
            ]
          },
          "metadata": {
            "tags": []
          },
          "execution_count": 8
        }
      ]
    },
    {
      "cell_type": "code",
      "metadata": {
        "ExecuteTime": {
          "end_time": "2018-06-30T05:51:23.251064Z",
          "start_time": "2018-06-30T05:51:23.235495Z"
        },
        "colab": {
          "base_uri": "https://localhost:8080/"
        },
        "id": "3pqXdV8CVjlf",
        "outputId": "39c1289e-b3ba-4a89-afa3-42993aaf73f8"
      },
      "source": [
        "model_load.wv.most_similar('virata')[:3]"
      ],
      "execution_count": 9,
      "outputs": [
        {
          "output_type": "execute_result",
          "data": {
            "text/plain": [
              "[('drupada', 0.8719466328620911),\n",
              " ('chedi', 0.8395088911056519),\n",
              " ('kasi', 0.8224478960037231)]"
            ]
          },
          "metadata": {
            "tags": []
          },
          "execution_count": 9
        }
      ]
    },
    {
      "cell_type": "markdown",
      "metadata": {
        "id": "ROdnHzltVjlf"
      },
      "source": [
        "##### We will save the trained vectors ."
      ]
    },
    {
      "cell_type": "code",
      "metadata": {
        "ExecuteTime": {
          "end_time": "2018-06-30T04:39:46.897701Z",
          "start_time": "2018-06-30T04:39:46.892679Z"
        },
        "id": "KUhEueNGVjlg"
      },
      "source": [
        "#model = model.save(\"MB2Vec.bin\")"
      ],
      "execution_count": 11,
      "outputs": []
    },
    {
      "cell_type": "markdown",
      "metadata": {
        "id": "I3glFGOwVjlh"
      },
      "source": [
        "##### Iterating through the vocabulary and constructing the word and vector list"
      ]
    },
    {
      "cell_type": "code",
      "metadata": {
        "ExecuteTime": {
          "end_time": "2018-06-30T05:52:10.387941Z",
          "start_time": "2018-06-30T05:52:09.839935Z"
        },
        "id": "X4jhp_bPVjlh",
        "scrolled": true
      },
      "source": [
        "words_list = np.array([])\n",
        "vector_list = np.array([])\n",
        "for i in model_load.wv.vocab:\n",
        "    # print(i)\n",
        "    try :\n",
        "        words_list = np.append(words_list, i)\n",
        "        vector_list = np.append(vector_list, model_load.wv[i])\n",
        "    except :\n",
        "        pass\n",
        "vector_list = vector_list.reshape(len(model_load.wv.vocab), -1)"
      ],
      "execution_count": 12,
      "outputs": []
    },
    {
      "cell_type": "code",
      "metadata": {
        "ExecuteTime": {
          "end_time": "2018-06-30T05:52:10.656217Z",
          "start_time": "2018-06-30T05:52:10.644233Z"
        },
        "colab": {
          "base_uri": "https://localhost:8080/"
        },
        "id": "oq8tQUEOVjlj",
        "outputId": "e32ef0df-67a7-4459-8a7c-1682b7a62430"
      },
      "source": [
        "vector_list"
      ],
      "execution_count": 13,
      "outputs": [
        {
          "output_type": "execute_result",
          "data": {
            "text/plain": [
              "array([[ 0.16864833, -0.27960551, -0.68687838, ...,  0.63978237,\n",
              "         0.79411763, -1.31252897],\n",
              "       [ 0.46420616, -0.22683537, -0.01793774, ...,  0.00357612,\n",
              "         0.21202265, -0.94256866],\n",
              "       [ 0.36606392, -0.25848693, -0.79818296, ...,  0.76230299,\n",
              "         0.86461562, -1.63536048],\n",
              "       ...,\n",
              "       [ 0.17499439,  0.55291128, -0.31933179, ...,  0.36503577,\n",
              "        -0.00510879,  0.47447261],\n",
              "       [ 0.05953008,  0.75688237, -0.20131937, ...,  0.38611445,\n",
              "        -0.01143939,  0.40637016],\n",
              "       [-0.1179359 ,  0.18191722, -0.01552572, ...,  0.4061693 ,\n",
              "        -0.0532771 ,  0.02118669]])"
            ]
          },
          "metadata": {
            "tags": []
          },
          "execution_count": 13
        }
      ]
    },
    {
      "cell_type": "markdown",
      "metadata": {
        "id": "oFK6dlynVjlk"
      },
      "source": [
        "##### Applying PCA on the vector_list to reduce the dimensions"
      ]
    },
    {
      "cell_type": "code",
      "metadata": {
        "ExecuteTime": {
          "end_time": "2018-06-30T05:54:45.892434Z",
          "start_time": "2018-06-30T05:54:45.872925Z"
        },
        "id": "_vQNJnePVjlk"
      },
      "source": [
        "pca = PCA(n_components=2)\n",
        "pca.fit(vector_list)\n",
        "compressed_list =pca.transform(vector_list)"
      ],
      "execution_count": 14,
      "outputs": []
    },
    {
      "cell_type": "markdown",
      "metadata": {
        "id": "M2Ap1190Vjll"
      },
      "source": [
        "##### Checking the shape of the vector_list"
      ]
    },
    {
      "cell_type": "code",
      "metadata": {
        "ExecuteTime": {
          "end_time": "2018-06-30T05:55:00.159024Z",
          "start_time": "2018-06-30T05:55:00.153531Z"
        },
        "colab": {
          "base_uri": "https://localhost:8080/"
        },
        "id": "lHiJ_7v7Vjlm",
        "outputId": "4e57d9c2-b28e-4393-92e3-1520db9274e7"
      },
      "source": [
        "vector_list.shape"
      ],
      "execution_count": 15,
      "outputs": [
        {
          "output_type": "execute_result",
          "data": {
            "text/plain": [
              "(1701, 100)"
            ]
          },
          "metadata": {
            "tags": []
          },
          "execution_count": 15
        }
      ]
    },
    {
      "cell_type": "markdown",
      "metadata": {
        "id": "5bzUzscYVjlm"
      },
      "source": [
        "##### Checking the shape of the compressed_list after applying PCA"
      ]
    },
    {
      "cell_type": "code",
      "metadata": {
        "ExecuteTime": {
          "end_time": "2018-06-30T05:55:01.105289Z",
          "start_time": "2018-06-30T05:55:01.095715Z"
        },
        "colab": {
          "base_uri": "https://localhost:8080/"
        },
        "id": "9NwX_6EPVjln",
        "outputId": "a6a8af24-3713-4e6b-bfaf-3af3209397ee"
      },
      "source": [
        "compressed_list.shape"
      ],
      "execution_count": 16,
      "outputs": [
        {
          "output_type": "execute_result",
          "data": {
            "text/plain": [
              "(1701, 2)"
            ]
          },
          "metadata": {
            "tags": []
          },
          "execution_count": 16
        }
      ]
    },
    {
      "cell_type": "markdown",
      "metadata": {
        "id": "vJnikQUJVjln"
      },
      "source": [
        "##### Let us find the location of some characters in word_list to get the locations"
      ]
    },
    {
      "cell_type": "code",
      "metadata": {
        "ExecuteTime": {
          "end_time": "2018-06-30T05:55:06.080485Z",
          "start_time": "2018-06-30T05:55:06.070111Z"
        },
        "colab": {
          "base_uri": "https://localhost:8080/"
        },
        "id": "LZ1hcGgHVjln",
        "outputId": "5f1589da-4052-426e-ab85-3f7bfcd97b01"
      },
      "source": [
        "characters = ['dussasana','sakuni','duryodhana','bhishma', 'krishna','madri','pandu', 'kunti', 'karna', 'bhima', 'arjuna', 'nakula', 'sahadeva', 'draupadi']\n",
        "locs = [np.where(words_list == x)[0][0] for x in characters]\n",
        "print(locs)"
      ],
      "execution_count": 17,
      "outputs": [
        {
          "output_type": "stream",
          "text": [
            "[1627, 1626, 1522, 19, 1245, 1500, 1232, 245, 1659, 1572, 1381, 1646, 1531, 1603]\n"
          ],
          "name": "stdout"
        }
      ]
    },
    {
      "cell_type": "markdown",
      "metadata": {
        "id": "Rt-kysGWVjlo"
      },
      "source": [
        "##### Let us Plot the data"
      ]
    },
    {
      "cell_type": "code",
      "metadata": {
        "ExecuteTime": {
          "end_time": "2018-06-30T05:55:10.380328Z",
          "start_time": "2018-06-30T05:55:10.121894Z"
        },
        "colab": {
          "base_uri": "https://localhost:8080/",
          "height": 320
        },
        "id": "14vY6e2PVjlo",
        "outputId": "7c5776d3-c18f-48e4-910f-4cfb398bf2c6"
      },
      "source": [
        "fig = plt.figure(figsize=(5,5))\n",
        "ax = fig.add_subplot(111)\n",
        "for character, pos in zip(characters, locs):\n",
        "    m = model_load.wv.get_vector(character)\n",
        "    value = pca.transform([m])[0]\n",
        "    ax.plot(value[0], value[1], \"gx\")\n",
        "    ax.annotate(words_list[pos], xy=value, xytext=value)\n",
        "plt.show()\n",
        "fig.savefig('word2vec.png')"
      ],
      "execution_count": 18,
      "outputs": [
        {
          "output_type": "display_data",
          "data": {
            "image/png": "[encoded data removed]",
            "text/plain": [
              "<Figure size 360x360 with 1 Axes>"
            ]
          },
          "metadata": {
            "tags": [],
            "needs_background": "light"
          }
        }
      ]
    },
    {
      "cell_type": "markdown",
      "metadata": {
        "id": "0JIeKOVnyeT7"
      },
      "source": [
        "###### Characters are grouped together based on word2vec learnt by the model."
      ]
    },
    {
      "cell_type": "markdown",
      "metadata": {
        "id": "qlUVTZNqVjlp"
      },
      "source": [
        "##### We will see the most similar characters related to characters list as shown below.\n",
        "\n",
        "##### characters = ['dussasana','sakuni','duryodhana','bhishma', 'krishna','madri','pandu', 'kunti', 'karna', 'bhima', 'arjuna', 'nakula', 'sahadeva', 'draupadi']"
      ]
    },
    {
      "cell_type": "code",
      "metadata": {
        "ExecuteTime": {
          "end_time": "2018-06-30T04:40:01.705867Z",
          "start_time": "2018-06-30T04:40:01.682697Z"
        },
        "colab": {
          "base_uri": "https://localhost:8080/"
        },
        "id": "fg1OsiEvVjlq",
        "outputId": "db82759b-581b-4d37-a502-ab07445f3e39"
      },
      "source": [
        "# Persons closer to the characters of our choice based on the word2vec model\n",
        "for character in characters:\n",
        "    near = model_load.wv.most_similar(character)[:5]\n",
        "    nearNames = [x[0] for x in near]\n",
        "    print(character, ':'.join(nearNames), sep=\"\\t\")"
      ],
      "execution_count": 19,
      "outputs": [
        {
          "output_type": "stream",
          "text": [
            "dussasana\tsakuni:duhsasana:vikarna:chitrasena:valhika\n",
            "sakuni\tdussasana:duhsasana:vikarna:suvala:valhika\n",
            "duryodhana\tdussasana:suyodhana:jayadratha:sakuni:dhritarashtra\n",
            "bhishma\tsalya:vaisampayana:sanjaya:kripa:savyasachin\n",
            "krishna\tkesava:vasudeva:govinda:madhava:vibhatsu\n",
            "madri\tsomadatta:subhadra:suvala:prishata:bharadwaja\n",
            "pandu\tkunti:pritha:radha:suta:subhadra\n",
            "kunti\tpritha:pandu:radha:suta:santanu\n",
            "karna\tduhsasana:yuyudhana:abhimanyu:bhagadatta:vikarna\n",
            "bhima\tbhimasena:vrikodara:abhimanyu:satyaki:lakshmana\n",
            "arjuna\tpartha:dhananjaya:vibhatsu:kama:bhima\n",
            "nakula\tsahadeva:vikarna:duhsasana:chitrasena:satyaki\n",
            "sahadeva\tnakula:satyaki:vikarna:duhsasana:chitrasena\n",
            "draupadi\tdrupada:madri:suvala:dussasana:uncl\n"
          ],
          "name": "stdout"
        }
      ]
    },
    {
      "cell_type": "code",
      "metadata": {
        "id": "w_WXGBgVVjlq"
      },
      "source": [
        "#TASK Modify the gensim word2vec model to train skip gram model.\n",
        "\n",
        "model = gensim.models.Word2Vec(sentences, min_count=100, sg=1)\n",
        "model_load = model"
      ],
      "execution_count": 20,
      "outputs": []
    },
    {
      "cell_type": "code",
      "metadata": {
        "colab": {
          "base_uri": "https://localhost:8080/"
        },
        "id": "hJ6mfIY1kboq",
        "outputId": "1bbbcad4-fa36-4850-95c4-5ddd415b3dc0"
      },
      "source": [
        "model_load.wv.most_similar('krishna')[:3]"
      ],
      "execution_count": 22,
      "outputs": [
        {
          "output_type": "execute_result",
          "data": {
            "text/plain": [
              "[('kesava', 0.7575588226318359),\n",
              " ('vasudeva', 0.7467806339263916),\n",
              " ('govinda', 0.7131187915802002)]"
            ]
          },
          "metadata": {
            "tags": []
          },
          "execution_count": 22
        }
      ]
    },
    {
      "cell_type": "code",
      "metadata": {
        "colab": {
          "base_uri": "https://localhost:8080/"
        },
        "id": "0Ul0Y_cykeAB",
        "outputId": "dc2546a1-75bf-441a-954e-c5a5cf654d59"
      },
      "source": [
        "model_load.wv.most_similar('bhishma')[:3]"
      ],
      "execution_count": 23,
      "outputs": [
        {
          "output_type": "execute_result",
          "data": {
            "text/plain": [
              "[('salya', 0.6840908527374268),\n",
              " ('somadatta', 0.6725749969482422),\n",
              " ('bhurisrava', 0.6655009984970093)]"
            ]
          },
          "metadata": {
            "tags": []
          },
          "execution_count": 23
        }
      ]
    },
    {
      "cell_type": "code",
      "metadata": {
        "colab": {
          "base_uri": "https://localhost:8080/"
        },
        "id": "vgN0DAgMkkK4",
        "outputId": "9b9b8b38-3ec7-4709-a4a4-86a0aeb97b7c"
      },
      "source": [
        "model_load.wv.most_similar('kunti')[:3]"
      ],
      "execution_count": 24,
      "outputs": [
        {
          "output_type": "execute_result",
          "data": {
            "text/plain": [
              "[('pritha', 0.8589121103286743),\n",
              " ('pandu', 0.8528451919555664),\n",
              " ('radha', 0.7718920707702637)]"
            ]
          },
          "metadata": {
            "tags": []
          },
          "execution_count": 24
        }
      ]
    },
    {
      "cell_type": "code",
      "metadata": {
        "id": "BimZ9eIqknDP"
      },
      "source": [
        "words_list = np.array([])\n",
        "vector_list = np.array([])\n",
        "for i in model_load.wv.vocab:\n",
        "    # print(i)\n",
        "    try :\n",
        "        words_list = np.append(words_list, i)\n",
        "        vector_list = np.append(vector_list, model_load.wv[i])\n",
        "    except :\n",
        "        pass\n",
        "vector_list = vector_list.reshape(len(model_load.wv.vocab), -1)"
      ],
      "execution_count": 25,
      "outputs": []
    },
    {
      "cell_type": "code",
      "metadata": {
        "id": "ve8CLr6VkpQv"
      },
      "source": [
        "pca = PCA(n_components=2)\n",
        "pca.fit(vector_list)\n",
        "compressed_list =pca.transform(vector_list)"
      ],
      "execution_count": 26,
      "outputs": []
    },
    {
      "cell_type": "code",
      "metadata": {
        "colab": {
          "base_uri": "https://localhost:8080/"
        },
        "id": "b-bHUZK3ksSQ",
        "outputId": "fa2c9482-f1b7-4a00-abc6-e8312ad7a147"
      },
      "source": [
        "vector_list.shape"
      ],
      "execution_count": 27,
      "outputs": [
        {
          "output_type": "execute_result",
          "data": {
            "text/plain": [
              "(1701, 100)"
            ]
          },
          "metadata": {
            "tags": []
          },
          "execution_count": 27
        }
      ]
    },
    {
      "cell_type": "code",
      "metadata": {
        "colab": {
          "base_uri": "https://localhost:8080/"
        },
        "id": "M1VJVPtpkt-O",
        "outputId": "d2d80a8f-3e65-4ae3-c8a7-3948cefd48fb"
      },
      "source": [
        "compressed_list.shape"
      ],
      "execution_count": 28,
      "outputs": [
        {
          "output_type": "execute_result",
          "data": {
            "text/plain": [
              "(1701, 2)"
            ]
          },
          "metadata": {
            "tags": []
          },
          "execution_count": 28
        }
      ]
    },
    {
      "cell_type": "code",
      "metadata": {
        "colab": {
          "base_uri": "https://localhost:8080/"
        },
        "id": "0FQkC5T1kwAw",
        "outputId": "a34328b0-9e41-45fe-abb0-3460f3955377"
      },
      "source": [
        "characters = ['dussasana','sakuni','duryodhana','bhishma', 'krishna','madri','pandu', 'kunti', 'karna', 'bhima', 'arjuna', 'nakula', 'sahadeva', 'draupadi']\n",
        "locs = [np.where(words_list == x)[0][0] for x in characters]\n",
        "print(locs)"
      ],
      "execution_count": 29,
      "outputs": [
        {
          "output_type": "stream",
          "text": [
            "[1627, 1626, 1522, 19, 1245, 1500, 1232, 245, 1659, 1572, 1381, 1646, 1531, 1603]\n"
          ],
          "name": "stdout"
        }
      ]
    },
    {
      "cell_type": "code",
      "metadata": {
        "colab": {
          "base_uri": "https://localhost:8080/",
          "height": 320
        },
        "id": "FUHUxGgWkyH4",
        "outputId": "3c8acf3d-a069-4972-d1f8-6c4c269dafb8"
      },
      "source": [
        "fig = plt.figure(figsize=(5,5))\n",
        "ax = fig.add_subplot(111)\n",
        "for character, pos in zip(characters, locs):\n",
        "    m = model_load.wv.get_vector(character)\n",
        "    value = pca.transform([m])[0]\n",
        "    ax.plot(value[0], value[1], \"gx\")\n",
        "    ax.annotate(words_list[pos], xy=value, xytext=value)\n",
        "plt.show()\n",
        "fig.savefig('word2vec.png')"
      ],
      "execution_count": 30,
      "outputs": [
        {
          "output_type": "display_data",
          "data": {
            "image/png": "[encoded data removed]",
            "text/plain": [
              "<Figure size 360x360 with 1 Axes>"
            ]
          },
          "metadata": {
            "tags": [],
            "needs_background": "light"
          }
        }
      ]
    },
    {
      "cell_type": "code",
      "metadata": {
        "colab": {
          "base_uri": "https://localhost:8080/"
        },
        "id": "YqAUJxipkzrx",
        "outputId": "f7a35e18-5869-4367-de4d-039d720d59ca"
      },
      "source": [
        "# Persons closer to the characters of our choice based on the word2vec model\n",
        "for character in characters:\n",
        "    near = model_load.wv.most_similar(character)[:5]\n",
        "    nearNames = [x[0] for x in near]\n",
        "    print(character, ':'.join(nearNames), sep=\"\\t\")"
      ],
      "execution_count": 31,
      "outputs": [
        {
          "output_type": "stream",
          "text": [
            "dussasana\tsakuni:duhsasana:suvala:vikarna:suyodhana\n",
            "sakuni\tsuvala:dussasana:duhsasana:vikarna:valhika\n",
            "duryodhana\tsuyodhana:dussasana:sakuni:duhsasana:suvala\n",
            "bhishma\tsalya:somadatta:bhurisrava:savyasachin:aswatthaman\n",
            "krishna\tkesava:vasudeva:govinda:vibhatsu:madhava\n",
            "madri\tsahadeva:prishata:nakula:subhadra:valiant\n",
            "pandu\tkunti:pritha:madri:subhadra:radha\n",
            "kunti\tpritha:pandu:radha:madri:subhadra\n",
            "karna\tduhsasana:bhagadatta:jayadratha:yuyudhana:kichaka\n",
            "bhima\tbhimasena:vrikodara:janardana:satyaki:lakshmana\n",
            "arjuna\tpartha:phalguna:vibhatsu:janardana:dhananjaya\n",
            "nakula\tsahadeva:madri:yuyudhana:chitrasena:duhsasana\n",
            "sahadeva\tnakula:madri:duhsasana:yuyudhana:chitrasena\n",
            "draupadi\tsubhadra:princess:virata:drupada:madri\n"
          ],
          "name": "stdout"
        }
      ]
    },
    {
      "cell_type": "code",
      "metadata": {
        "id": "bpHzZBgjsx8D"
      },
      "source": [
        ""
      ],
      "execution_count": null,
      "outputs": []
    }
  ]
}